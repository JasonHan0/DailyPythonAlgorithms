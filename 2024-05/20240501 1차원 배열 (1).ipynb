{
 "cells": [
  {
   "cell_type": "markdown",
   "metadata": {},
   "source": [
    "### 백준 문제 10807 번\n",
    "* https://www.acmicpc.net/problem/10807\n",
    "\n",
    "#### 개수 세기\n",
    "\n",
    "#### 문제\n",
    "- 총 N개의 정수가 주어졌을 때, 정수 v가 몇 개인지 구하는 프로그램을 작성하시오.\n",
    "\n",
    "#### 입력\n",
    "- 첫째 줄에 정수의 개수 N(1 ≤ N ≤ 100)이 주어진다. \n",
    "- 둘째 줄에는 정수가 공백으로 구분되어져있다.\n",
    "- 셋째 줄에는 찾으려고 하는 정수 v가 주어진다.\n",
    "- 입력으로 주어지는 정수와 v는 -100보다 크거나 같으며, 100보다 작거나 같다.\n",
    "\n",
    "#### 출력\n",
    "- 첫째 줄에 입력으로 주어진 N개의 정수 중에 v가 몇 개인지 출력한다."
   ]
  },
  {
   "cell_type": "code",
   "execution_count": 9,
   "metadata": {},
   "outputs": [
    {
     "name": "stdout",
     "output_type": "stream",
     "text": [
      "0\n"
     ]
    }
   ],
   "source": [
    "N = int(input())\n",
    "list_n = [int(i) for i in input().split(\" \")]\n",
    "v = int(input())\n",
    "cnt = 0\n",
    "for i in list_n:\n",
    "    if i == v:\n",
    "        cnt += 1\n",
    "print(cnt)"
   ]
  },
  {
   "cell_type": "markdown",
   "metadata": {},
   "source": [
    "### 백준 문제 10871 번\n",
    "* https://www.acmicpc.net/problem/10871\n",
    "\n",
    "#### X보다 작은 수\n",
    "\n",
    "#### 문제\n",
    "- 정수 N개로 이루어진 수열 A와 정수 X가 주어진다. 이때, A에서 X보다 작은 수를 모두 출력하는 프로그램을 작성하시오.\n",
    "\n",
    "#### 입력\n",
    "- 첫째 줄에 N과 X가 주어진다. (1 ≤ N, X ≤ 10,000)\n",
    "- 둘째 줄에 수열 A를 이루는 정수 N개가 주어진다.\n",
    "- 주어지는 정수는 모두 1보다 크거나 같고, 10,000보다 작거나 같은 정수이다.\n",
    "\n",
    "#### 출력\n",
    "- X보다 작은 수를 입력받은 순서대로 공백으로 구분해 출력한다. X보다 작은 수는 적어도 하나 존재한다."
   ]
  },
  {
   "cell_type": "code",
   "execution_count": 13,
   "metadata": {},
   "outputs": [
    {
     "name": "stdout",
     "output_type": "stream",
     "text": [
      "1 4 2 3\n"
     ]
    }
   ],
   "source": [
    "N, X = map(int, input().split(\" \"))\n",
    "A = list(map(int, input().split(\" \")))\n",
    "print(\" \".join([str(i) for i in A if i < X]))"
   ]
  },
  {
   "cell_type": "markdown",
   "metadata": {},
   "source": [
    "### 백준 문제 10818 번\n",
    "* https://www.acmicpc.net/problem/10818\n",
    "\n",
    "#### 최소, 최대\n",
    "\n",
    "#### 문제\n",
    "- N개의 정수가 주어진다. 이때, 최솟값과 최댓값을 구하는 프로그램을 작성하시오.\n",
    "\n",
    "#### 입력\n",
    "- 첫째 줄에 정수의 개수 N (1 ≤ N ≤ 1,000,000)이 주어진다.\n",
    "- 둘째 줄에는 N개의 정수를 공백으로 구분해서 주어진다.\n",
    "- 모든 정수는 -1,000,000보다 크거나 같고, 1,000,000보다 작거나 같은 정수이다.\n",
    "\n",
    "#### 출력\n",
    "- 첫째 줄에 주어진 정수 N개의 최솟값과 최댓값을 공백으로 구분해 출력한다."
   ]
  },
  {
   "cell_type": "code",
   "execution_count": 15,
   "metadata": {},
   "outputs": [
    {
     "name": "stdout",
     "output_type": "stream",
     "text": [
      "7 35\n"
     ]
    }
   ],
   "source": [
    "N = int(input())\n",
    "numbers = list(map(int, input().split(\" \")))\n",
    "print(f\"{min(numbers)} {max(numbers)}\")"
   ]
  },
  {
   "cell_type": "markdown",
   "metadata": {},
   "source": [
    "### 백준 문제 2562 번\n",
    "* https://www.acmicpc.net/problem/2562\n",
    "\n",
    "#### 최댓값\n",
    "\n",
    "#### 문제\n",
    "- 9개의 서로 다른 자연수가 주어질 때, 이들 중 최댓값을 찾고 그 최댓값이 몇 번째 수인지를 구하는 프로그램을 작성하시오.\n",
    "- 예를 들어, 서로 다른 9개의 자연수 3, 29, 38, 12, 57, 74, 40, 85, 61 이 주어지면, 이들 중 최댓값은 85이고, 이 값은 8번째 수이다.\n",
    "\n",
    "#### 입력\n",
    "- 첫째 줄부터 아홉 번째 줄까지 한 줄에 하나의 자연수가 주어진다. 주어지는 자연수는 100 보다 작다.\n",
    "\n",
    "#### 출력\n",
    "- 첫째 줄에 최댓값을 출력하고, 둘째 줄에 최댓값이 몇 번째 수인지를 출력한다."
   ]
  },
  {
   "cell_type": "code",
   "execution_count": 19,
   "metadata": {},
   "outputs": [
    {
     "name": "stdout",
     "output_type": "stream",
     "text": [
      "85\n",
      "8\n"
     ]
    }
   ],
   "source": [
    "numbers = []\n",
    "for _ in range(1, 10):\n",
    "    x = int(input())\n",
    "    numbers.append(x)\n",
    "print(max(numbers))\n",
    "print(numbers.index(max(numbers))+1)"
   ]
  },
  {
   "cell_type": "markdown",
   "metadata": {},
   "source": [
    "### 백준 문제 10810 번\n",
    "* https://www.acmicpc.net/problem/10810\n",
    "\n",
    "#### 공 넣기\n",
    "\n",
    "#### 문제\n",
    "- 도현이는 바구니를 총 N개 가지고 있고, 각각의 바구니에는 1번부터 N번까지 번호가 매겨져 있다.\n",
    "- 또, 1번부터 N번까지 번호가 적혀있는 공을 매우 많이 가지고 있다.\n",
    "- 가장 처음 바구니에는 공이 들어있지 않으며, 바구니에는 공을 1개만 넣을 수 있다.\n",
    "- 도현이는 앞으로 M번 공을 넣으려고 한다. 도현이는 한 번 공을 넣을 때, 공을 넣을 바구니 범위를 정하고, 정한 바구니에 모두 같은 번호가 적혀있는 공을 넣는다.\n",
    "- 만약, 바구니에 공이 이미 있는 경우에는 들어있는 공을 빼고, 새로 공을 넣는다. 공을 넣을 바구니는 연속되어 있어야 한다.\n",
    "- 공을 어떻게 넣을지가 주어졌을 때, M번 공을 넣은 이후에 각 바구니에 어떤 공이 들어 있는지 구하는 프로그램을 작성하시오.\n",
    "\n",
    "#### 입력\n",
    "- 첫째 줄에 N (1 ≤ N ≤ 100)과 M (1 ≤ M ≤ 100)이 주어진다.\n",
    "- 둘째 줄부터 M개의 줄에 걸쳐서 공을 넣는 방법이 주어진다. 각 방법은 세 정수 i j k로 이루어져 있으며, i번 바구니부터 j번 바구니까지에 k번 번호가 적혀져 있는 공을 넣는다는 뜻이다.\n",
    "- 예를 들어, 2 5 6은 2번 바구니부터 5번 바구니까지에 6번 공을 넣는다는 뜻이다. (1 ≤ i ≤ j ≤ N, 1 ≤ k ≤ N)\n",
    "- 도현이는 입력으로 주어진 순서대로 공을 넣는다.\n",
    "\n",
    "#### 출력\n",
    "- 1번 바구니부터 N번 바구니에 들어있는 공의 번호를 공백으로 구분해 출력한다. 공이 들어있지 않은 바구니는 0을 출력한다."
   ]
  },
  {
   "cell_type": "code",
   "execution_count": 59,
   "metadata": {},
   "outputs": [
    {
     "name": "stdout",
     "output_type": "stream",
     "text": [
      "1 2 1 1 0\n"
     ]
    }
   ],
   "source": [
    "N, M = map(int, input().split(\" \"))\n",
    "bucket = [0] * N\n",
    "\n",
    "for _ in range(M):\n",
    "    i, j, k = map(int, input().split(\" \"))\n",
    "    bucket[i-1:j] = [k]*(j-i+1)\n",
    "   \n",
    "print(\" \".join(map(str, bucket)))"
   ]
  },
  {
   "cell_type": "markdown",
   "metadata": {},
   "source": [
    "[풀이]\n",
    "- 위 문제에서 리스트에 곱을 활용한다는 생각조차 하지 못해서 반복문을 통하여 0이 있는 리스트를 초기화하였다. \n",
    "- 리스트 내 특정 범위까지 원하는 숫자로 채운다는 개념을 슬라이싱을 사용해야하는 것 또한 생각하지 못하여 반복문과 조건문을 통해 처리하였다. 리스트 내 insert와 pop을 통해서 구현했으나, 위 풀이는 다른 사람의 풀이를 보고 풀 수 있게 되었다."
   ]
  }
 ],
 "metadata": {
  "kernelspec": {
   "display_name": "base",
   "language": "python",
   "name": "python3"
  },
  "language_info": {
   "codemirror_mode": {
    "name": "ipython",
    "version": 3
   },
   "file_extension": ".py",
   "mimetype": "text/x-python",
   "name": "python",
   "nbconvert_exporter": "python",
   "pygments_lexer": "ipython3",
   "version": "3.9.13"
  }
 },
 "nbformat": 4,
 "nbformat_minor": 2
}
