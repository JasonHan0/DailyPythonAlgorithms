{
 "cells": [
  {
   "cell_type": "markdown",
   "metadata": {},
   "source": [
    "### 백준 문제 25083 번\n",
    "* https://www.acmicpc.net/problem/25083\n",
    "  \n",
    "#### 새싹\n",
    "\n",
    "#### 문제\n",
    "- 아래 예제와 같이 새싹을 출력하시오.\n",
    "```\n",
    "         ,r'\"7\n",
    "r`-_   ,'  ,/\n",
    " \\. \". L_r'\n",
    "   `~\\/\n",
    "      |\n",
    "      |\n",
    "```\n",
    "\n",
    "#### 입력\n",
    "- 입력은 없다.\n",
    "\n",
    "#### 출력\n",
    "- 새싹을 출력한다."
   ]
  },
  {
   "cell_type": "code",
   "execution_count": 1,
   "metadata": {},
   "outputs": [
    {
     "name": "stdout",
     "output_type": "stream",
     "text": [
      "         ,r'\"7\n",
      "r`-_   ,'  ,/\n",
      " \\. \". L_r'\n",
      "   `~\\/\n",
      "      |\n",
      "      |\n"
     ]
    }
   ],
   "source": [
    "print('''         ,r'\"7''')\n",
    "print(\"r`-_   ,'  ,/\")\n",
    "print(\"\"\" \\. \". L_r'\"\"\")\n",
    "print(\"   `~\\/\")\n",
    "print(\"      |\")\n",
    "print(\"      |\")"
   ]
  },
  {
   "cell_type": "markdown",
   "metadata": {},
   "source": [
    "### 백준 문제 3003 번\n",
    "* https://www.acmicpc.net/problem/3003\n",
    "  \n",
    "#### 킹, 퀸, 룩, 비숍, 나이트, 폰\n",
    "\n",
    "#### 문제\n",
    "- 동혁이는 오래된 창고를 뒤지다가 낡은 체스판과 피스를 발견했다.\n",
    "- 체스판의 먼지를 털어내고 걸레로 닦으니 그럭저럭 쓸만한 체스판이 되었다. 하지만, 검정색 피스는 모두 있었으나, 흰색 피스는 개수가 올바르지 않았다.\n",
    "- 체스는 총 16개의 피스를 사용하며, 킹 1개, 퀸 1개, 룩 2개, 비숍 2개, 나이트 2개, 폰 8개로 구성되어 있다.\n",
    "- 동혁이가 발견한 흰색 피스의 개수가 주어졌을 때, 몇 개를 더하거나 빼야 올바른 세트가 되는지 구하는 프로그램을 작성하시오.\n",
    "  \n",
    "#### 입력\n",
    "- 첫째 줄에 동혁이가 찾은 흰색 킹, 퀸, 룩, 비숍, 나이트, 폰의 개수가 주어진다. 이 값은 0보다 크거나 같고 10보다 작거나 같은 정수이다.\n",
    "\n",
    "#### 출력\n",
    "- 첫째 줄에 입력에서 주어진 순서대로 몇 개의 피스를 더하거나 빼야 되는지를 출력한다.\n",
    "- 만약 수가 양수라면 동혁이는 그 개수 만큼 피스를 더해야 하는 것이고, 음수라면 제거해야 하는 것이다."
   ]
  },
  {
   "cell_type": "code",
   "execution_count": 16,
   "metadata": {},
   "outputs": [
    {
     "name": "stdout",
     "output_type": "stream",
     "text": [
      "1 0 0 0 0 1\n"
     ]
    }
   ],
   "source": [
    "donghyuk = list(map(int, input().split()))\n",
    "chess = [1, 1, 2, 2, 2, 8]\n",
    "differ = [str(c-d) for d, c in zip(donghyuk, chess)]\n",
    "print(' '.join(differ))"
   ]
  },
  {
   "cell_type": "markdown",
   "metadata": {},
   "source": [
    "### 백준 문제 2444 번\n",
    "* https://www.acmicpc.net/problem/2444\n",
    "  \n",
    "#### 별 찍기 - 7\n",
    "\n",
    "#### 문제\n",
    "- 예제를 보고 규칙을 유추한 뒤에 별을 찍어 보세요.\n",
    "```\n",
    "    *\n",
    "   ***\n",
    "  *****\n",
    " *******\n",
    "*********\n",
    " *******\n",
    "  *****\n",
    "   ***\n",
    "    *\n",
    "```\n",
    "\n",
    "#### 입력\n",
    "- 첫째 줄에 N(1 ≤ N ≤ 100)이 주어진다.\n",
    "\n",
    "#### 출력\n",
    "- 첫째 줄부터 2×N-1번째 줄까지 차례대로 별을 출력한다."
   ]
  },
  {
   "cell_type": "code",
   "execution_count": 206,
   "metadata": {},
   "outputs": [
    {
     "name": "stdout",
     "output_type": "stream",
     "text": [
      "    *\n",
      "   ***\n",
      "  *****\n",
      " *******\n",
      "*********\n",
      " ************\n",
      "  **********\n",
      "   ********\n",
      "    ******\n"
     ]
    }
   ],
   "source": [
    "N = int(input())\n",
    "for idx, i in enumerate(range(0, 4*N-2, 2)):\n",
    "    if idx < N:\n",
    "        print(f'{\" \"*(N-idx-1)}{\"*\"*(i+1)}')\n",
    "    if idx >= N:\n",
    "        # print(N*(N-1) - i)\n",
    "        print(f'{\" \"*(idx-N+1)}{\"*\"*(N*N - i -N+2)}')"
   ]
  },
  {
   "cell_type": "code",
   "execution_count": 208,
   "metadata": {},
   "outputs": [
    {
     "name": "stdout",
     "output_type": "stream",
     "text": [
      "-4\n",
      "    *\n",
      "-3\n",
      "   ***\n",
      "-2\n",
      "  *****\n",
      "-1\n",
      " *******\n",
      "0\n",
      "*********\n",
      "1\n",
      " *******\n",
      "2\n",
      "  *****\n",
      "3\n",
      "   ***\n",
      "4\n",
      "    *\n"
     ]
    }
   ],
   "source": [
    "N = int(input())\n",
    "for i in range(-N+1,N):\n",
    "    print(\" \" * abs(i) + \"*\" * (N*2-1 - abs(i)*2))"
   ]
  },
  {
   "cell_type": "markdown",
   "metadata": {},
   "source": [
    "### 백준 문제 10988 번\n",
    "* https://www.acmicpc.net/problem/10988\n",
    "  \n",
    "#### 팰린드롬인지 확인하기\n",
    "\n",
    "#### 문제\n",
    "- 알파벳 소문자로만 이루어진 단어가 주어진다. 이때, 이 단어가 팰린드롬인지 아닌지 확인하는 프로그램을 작성하시오.\n",
    "- 팰린드롬이란 앞으로 읽을 때와 거꾸로 읽을 때 똑같은 단어를 말한다. \n",
    "- level, noon은 팰린드롬이고, baekjoon, online, judge는 팰린드롬이 아니다.\n",
    "  \n",
    "#### 입력\n",
    "- 첫째 줄에 단어가 주어진다. 단어의 길이는 1보다 크거나 같고, 100보다 작거나 같으며, 알파벳 소문자로만 이루어져 있다.\n",
    "\n",
    "#### 출력\n",
    "- 첫째 줄에 팰린드롬이면 1, 아니면 0을 출력한다."
   ]
  },
  {
   "cell_type": "code",
   "execution_count": 217,
   "metadata": {},
   "outputs": [
    {
     "name": "stdout",
     "output_type": "stream",
     "text": [
      "0\n"
     ]
    }
   ],
   "source": [
    "word = str(input()).lower()\n",
    "if word == ''.join(list(word)[::-1]):\n",
    "    print(\"1\")\n",
    "else:\n",
    "    print(\"0\")"
   ]
  }
 ],
 "metadata": {
  "kernelspec": {
   "display_name": "base",
   "language": "python",
   "name": "python3"
  },
  "language_info": {
   "codemirror_mode": {
    "name": "ipython",
    "version": 3
   },
   "file_extension": ".py",
   "mimetype": "text/x-python",
   "name": "python",
   "nbconvert_exporter": "python",
   "pygments_lexer": "ipython3",
   "version": "3.9.13"
  }
 },
 "nbformat": 4,
 "nbformat_minor": 2
}
